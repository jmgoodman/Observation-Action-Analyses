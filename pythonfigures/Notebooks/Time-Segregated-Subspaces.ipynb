{
 "cells": [
  {
   "cell_type": "markdown",
   "id": "57c427d9",
   "metadata": {},
   "source": [
    "# Initialize"
   ]
  },
  {
   "cell_type": "code",
   "execution_count": 1,
   "id": "ee957798",
   "metadata": {},
   "outputs": [],
   "source": [
    "import os\n",
    "init=False"
   ]
  },
  {
   "cell_type": "markdown",
   "id": "7ff5a013",
   "metadata": {},
   "source": [
    "# Imports"
   ]
  },
  {
   "cell_type": "code",
   "execution_count": 2,
   "id": "e47c0aba",
   "metadata": {},
   "outputs": [],
   "source": [
    "if not init:\n",
    "    os.chdir('..')\n",
    "    init=True\n",
    "from pythonfigures.datapartition import DataPartitioner\n",
    "from pythonfigures.neuraldatabase import Query\n",
    "import pandas as pd\n",
    "import numpy as np\n",
    "\n",
    "from sklearn.decomposition import PCA\n",
    "from sklearn.discriminant_analysis import LinearDiscriminantAnalysis as LDA\n",
    "from sklearn.model_selection import LeaveOneOut as LOO\n",
    "from scipy.linalg import subspace_angles, orth\n",
    "\n",
    "import plotly.express as px\n",
    "import plotly.graph_objects as go\n",
    "from plotly.offline import iplot\n",
    "from plotly.subplots import make_subplots"
   ]
  },
  {
   "cell_type": "markdown",
   "id": "d71a38a4",
   "metadata": {},
   "source": [
    "# Query Fixation, Cue, and Movement period data, show they're all orthogonalizable"
   ]
  },
  {
   "cell_type": "code",
   "execution_count": 3,
   "id": "95cd8c5e",
   "metadata": {},
   "outputs": [
    {
     "name": "stdout",
     "output_type": "stream",
     "text": [
      "[[], ['context'], ['alignment'], ['context', 'alignment'], ['grip'], ['context', 'grip'], ['alignment', 'grip'], ['context', 'alignment', 'grip'], ['object'], ['context', 'object'], ['alignment', 'object'], ['context', 'alignment', 'object'], ['grip', 'object'], ['context', 'grip', 'object'], ['alignment', 'grip', 'object'], ['context', 'alignment', 'grip', 'object'], ['turntable'], ['context', 'turntable'], ['alignment', 'turntable'], ['context', 'alignment', 'turntable'], ['grip', 'turntable'], ['context', 'grip', 'turntable'], ['alignment', 'grip', 'turntable'], ['context', 'alignment', 'grip', 'turntable'], ['object', 'turntable'], ['context', 'object', 'turntable'], ['alignment', 'object', 'turntable'], ['context', 'alignment', 'object', 'turntable'], ['grip', 'object', 'turntable'], ['context', 'grip', 'object', 'turntable'], ['alignment', 'grip', 'object', 'turntable'], ['context', 'alignment', 'grip', 'object', 'turntable'], ['time'], ['context', 'time'], ['alignment', 'time'], ['context', 'alignment', 'time'], ['grip', 'time'], ['context', 'grip', 'time'], ['alignment', 'grip', 'time'], ['context', 'alignment', 'grip', 'time'], ['object', 'time'], ['context', 'object', 'time'], ['alignment', 'object', 'time'], ['context', 'alignment', 'object', 'time'], ['grip', 'object', 'time'], ['context', 'grip', 'object', 'time'], ['alignment', 'grip', 'object', 'time'], ['context', 'alignment', 'grip', 'object', 'time'], ['turntable', 'time'], ['context', 'turntable', 'time'], ['alignment', 'turntable', 'time'], ['context', 'alignment', 'turntable', 'time'], ['grip', 'turntable', 'time'], ['context', 'grip', 'turntable', 'time'], ['alignment', 'grip', 'turntable', 'time'], ['context', 'alignment', 'grip', 'turntable', 'time'], ['object', 'turntable', 'time'], ['context', 'object', 'turntable', 'time'], ['alignment', 'object', 'turntable', 'time'], ['context', 'alignment', 'object', 'turntable', 'time'], ['grip', 'object', 'turntable', 'time'], ['context', 'grip', 'object', 'turntable', 'time'], ['alignment', 'grip', 'object', 'turntable', 'time'], ['context', 'alignment', 'grip', 'object', 'turntable', 'time']]\n"
     ]
    }
   ],
   "source": [
    "dp = DataPartitioner(session='Zara70',\n",
    "                    areas=['AIP'],\n",
    "                    aligns=['fixation','cue onset','go cue onset','movement onset','hold'],\n",
    "                    contexts=['active','passive'],\n",
    "                    groupings=['context','alignment','grip','object','turntable','time'])\n",
    "\n",
    "print( dp.get('groupings') )"
   ]
  },
  {
   "cell_type": "code",
   "execution_count": 4,
   "id": "f6b3b1e1",
   "metadata": {},
   "outputs": [
    {
     "name": "stdout",
     "output_type": "stream",
     "text": [
      "         n0        n1   n2   n3   n4   n5        n6        n7        n8   n9  \\\n",
      "0       0.0  0.093237  0.0  0.0  0.0  0.0  0.133653  0.015111  0.393682  0.0   \n",
      "1       0.0  0.061866  0.0  0.0  0.0  0.0  0.188941  0.008631  0.397735  0.0   \n",
      "2       0.0  0.039524  0.0  0.0  0.0  0.0  0.256995  0.004737  0.409651  0.0   \n",
      "3       0.0  0.024301  0.0  0.0  0.0  0.0  0.336347  0.002498  0.429751  0.0   \n",
      "4       0.0  0.014378  0.0  0.0  0.0  0.0  0.423572  0.001265  0.457440  0.0   \n",
      "...     ...       ...  ...  ...  ...  ...       ...       ...       ...  ...   \n",
      "189595  0.0  0.088819  0.0  0.0  0.0  0.0  0.642498  0.000000  0.174741  0.0   \n",
      "189596  0.0  0.059543  0.0  0.0  0.0  0.0  0.671860  0.000000  0.156003  0.0   \n",
      "189597  0.0  0.038364  0.0  0.0  0.0  0.0  0.681889  0.000000  0.136226  0.0   \n",
      "189598  0.0  0.023778  0.0  0.0  0.0  0.0  0.671674  0.000000  0.116920  0.0   \n",
      "189599  0.0  0.014226  0.0  0.0  0.0  0.0  0.642016  0.000000  0.099724  0.0   \n",
      "\n",
      "        ...      n118  n119      n120  trial      object  context  turntable  \\\n",
      "0       ...  0.488702   0.0  0.000000     61  Ring 50 mm   active          1   \n",
      "1       ...  0.445868   0.0  0.000000     61  Ring 50 mm   active          1   \n",
      "2       ...  0.407445   0.0  0.000000     61  Ring 50 mm   active          1   \n",
      "3       ...  0.377027   0.0  0.000000     61  Ring 50 mm   active          1   \n",
      "4       ...  0.355886   0.0  0.000000     61  Ring 50 mm   active          1   \n",
      "...     ...       ...   ...       ...    ...         ...      ...        ...   \n",
      "189595  ...  0.511343   0.0  0.015525    534  Ball 20 mm  passive          4   \n",
      "189596  ...  0.479424   0.0  0.026245    534  Ball 20 mm  passive          4   \n",
      "189597  ...  0.448796   0.0  0.042687    534  Ball 20 mm  passive          4   \n",
      "189598  ...  0.419026   0.0  0.066817    534  Ball 20 mm  passive          4   \n",
      "189599  ...  0.388840   0.0  0.100698    534  Ball 20 mm  passive          4   \n",
      "\n",
      "             alignment  time  grip  \n",
      "0            cue onset  -495    12  \n",
      "1            cue onset  -485    12  \n",
      "2            cue onset  -475    12  \n",
      "3            cue onset  -465    12  \n",
      "4            cue onset  -455    12  \n",
      "...                ...   ...   ...  \n",
      "189595  movement onset   455    23  \n",
      "189596  movement onset   465    23  \n",
      "189597  movement onset   475    23  \n",
      "189598  movement onset   485    23  \n",
      "189599  movement onset   495    23  \n",
      "\n",
      "[189600 rows x 128 columns]\n"
     ]
    }
   ],
   "source": [
    "# query the whole damn thing\n",
    "df = dp.readQuery(0)\n",
    "\n",
    "# convert from turntable x object ID vs. just the turntable ID\n",
    "df['turntable'] = df['turntable'] // 10\n",
    "\n",
    "print(df)"
   ]
  },
  {
   "cell_type": "markdown",
   "id": "3b3ed645",
   "metadata": {},
   "source": [
    "## Analysis Notes:\n",
    "* look for the subspace that preferentially expresses fixation-period data and delete it\n",
    "* why not just do dPCA? because dPCA does not admit mutually orthogonal subspaces!\n",
    "* instead, you'll want to do hypothesis-driven dimensionality reduction\n",
    "* you may need to use pymanopt to this end\n",
    "* and sweep through dimensionality assignments!\n",
    "* but that's a complicated analysis for another day...\n",
    "\n",
    "## Focus on this for now:\n",
    "1. Extract fixation-period baseline effects and determine their subspace\n",
    "2. Extract (sustained) visual-period activity, determine its subspace\n",
    "3. Extract movement-period activity, determine ITS subspace\n",
    "4. Justification? Orthogonalization is computationally straightforward (you get to claim 'this is how the brain extracts this info'), data partitioning is not (you don't get to easily claim 'this is how the brain is doing things')\n",
    "5. Do a battery of subspace-matching analyses\n",
    "    1. Discovery of 1-to-1 matched patterns (to prove the need for orthogonalization)\n",
    "    2. Discovery of subspace distance (principal angles, alignment index)\n",
    "    3. Decoding analysis applied to the raw data (self- and cross-decoding)"
   ]
  },
  {
   "cell_type": "code",
   "execution_count": 5,
   "id": "e5659ea6",
   "metadata": {},
   "outputs": [],
   "source": [
    "# get pre-fixation baseline effects\n",
    "df_fixation = df[(df['alignment']=='fixation') & (df['time']<0)].groupby(['context','turntable'])[dp.get('neuronColumnNames')].aggregate('mean')\n",
    "\n",
    "# get vision-period sustained effects\n",
    "df_vision = df[(df['alignment']=='cue onset') & (df['time']>0)].groupby(['object'])[dp.get('neuronColumnNames')].aggregate('mean')\n",
    "\n",
    "# get movement-period transient effects (from go cue onset to capture preparatory activity) (until hold onset to avoid post-contact tactile weirdness)\n",
    "df_movement = df[((df['alignment']=='go cue onset') & (df['time']>0)) | ((df['alignment']=='hold onset') & (df['time']<0))].groupby(['context','grip','time'])[dp.get('neuronColumnNames')].aggregate('mean')"
   ]
  },
  {
   "cell_type": "code",
   "execution_count": 6,
   "id": "db735822",
   "metadata": {},
   "outputs": [
    {
     "name": "stdout",
     "output_type": "stream",
     "text": [
      "                         n0        n1        n2        n3        n4  \\\n",
      "context turntable                                                     \n",
      "active  1          0.004621  0.228129  0.040569  0.000000  0.065387   \n",
      "        2          0.027573  0.222800  0.050036  0.000000  0.014687   \n",
      "        3          0.014584  0.197000  0.046121  0.000000  0.016535   \n",
      "        4          0.016136  0.234072  0.069933  0.000000  0.017482   \n",
      "passive 1          0.007191  0.210280  0.046461  0.000000  0.004186   \n",
      "        2          0.012626  0.290735  0.067732  0.000000  0.004410   \n",
      "        3          0.016760  0.251577  0.048202  0.000000  0.018917   \n",
      "        4          0.001524  0.202957  0.051097  0.005961  0.034628   \n",
      "\n",
      "                             n5        n6        n7        n8        n9  ...  \\\n",
      "context turntable                                                        ...   \n",
      "active  1          8.775849e-04  0.346037  0.131280  0.171411  0.012508  ...   \n",
      "        2          2.062708e-03  0.345247  0.204053  0.152371  0.006553  ...   \n",
      "        3          8.675640e-04  0.311510  0.165769  0.148181  0.024683  ...   \n",
      "        4          0.000000e+00  0.296112  0.148236  0.142748  0.040353  ...   \n",
      "passive 1          6.801370e-07  0.140359  0.079624  0.185062  0.006173  ...   \n",
      "        2          2.057442e-03  0.110162  0.141851  0.168881  0.006133  ...   \n",
      "        3          3.739680e-03  0.130096  0.120103  0.162347  0.007098  ...   \n",
      "        4          1.707288e-03  0.188630  0.162925  0.151309  0.012186  ...   \n",
      "\n",
      "                       n111      n112      n113      n114      n115      n116  \\\n",
      "context turntable                                                               \n",
      "active  1          0.020795  0.073312  0.034649  0.027142  0.050106  0.050505   \n",
      "        2          0.035154  0.076081  0.033926  0.043781  0.048101  0.037573   \n",
      "        3          0.038506  0.052133  0.018561  0.074550  0.036066  0.039040   \n",
      "        4          0.056826  0.076415  0.022268  0.044477  0.029919  0.034994   \n",
      "passive 1          0.023187  0.176681  0.028843  0.011781  0.087033  0.032162   \n",
      "        2          0.021284  0.138051  0.012841  0.050311  0.057610  0.050333   \n",
      "        3          0.035271  0.111123  0.007770  0.033612  0.057116  0.062287   \n",
      "        4          0.019421  0.116091  0.004200  0.048580  0.039970  0.048972   \n",
      "\n",
      "                       n117      n118      n119      n120  \n",
      "context turntable                                          \n",
      "active  1          0.001745  0.078415  0.023146  0.128809  \n",
      "        2          0.002051  0.080042  0.026622  0.097987  \n",
      "        3          0.002403  0.108427  0.028595  0.093385  \n",
      "        4          0.009068  0.103558  0.014835  0.092770  \n",
      "passive 1          0.007301  0.055541  0.018873  0.094135  \n",
      "        2          0.003663  0.087277  0.032440  0.093926  \n",
      "        3          0.000176  0.080701  0.046043  0.101928  \n",
      "        4          0.002363  0.073021  0.028100  0.096132  \n",
      "\n",
      "[8 rows x 121 columns]\n"
     ]
    }
   ],
   "source": [
    "print(df_fixation)"
   ]
  },
  {
   "cell_type": "code",
   "execution_count": 7,
   "id": "5331d33b",
   "metadata": {},
   "outputs": [
    {
     "name": "stdout",
     "output_type": "stream",
     "text": [
      "                            n0        n1        n2            n3        n4  \\\n",
      "object                                                                       \n",
      "Ball 15 mm        0.000000e+00  0.099918  0.031768  0.000000e+00  0.030192   \n",
      "Ball 20 mm        0.000000e+00  0.135379  0.018028  0.000000e+00  0.049946   \n",
      "Ball 25 mm        0.000000e+00  0.110182  0.033450  0.000000e+00  0.051517   \n",
      "Ball 30 mm        1.261415e-02  0.151028  0.032812  8.228270e-03  0.012601   \n",
      "Ball 35 mm        0.000000e+00  0.141348  0.062339  0.000000e+00  0.067264   \n",
      "Ball 40 mm        1.524968e-02  0.197649  0.025467  0.000000e+00  0.136477   \n",
      "Bar 10 mm         0.000000e+00  0.047264  0.008188  5.853876e-03  0.080977   \n",
      "Cube 15 mm        1.437458e-02  0.080177  0.007113  2.995109e-08  0.042295   \n",
      "Cube 20 mm        1.051938e-02  0.149383  0.003078  0.000000e+00  0.043985   \n",
      "Cube 25 mm        8.393787e-03  0.152847  0.031159  0.000000e+00  0.016540   \n",
      "Cube 30 mm        7.243635e-03  0.138565  0.039986  0.000000e+00  0.004136   \n",
      "Cube 35 mm        5.059880e-03  0.153465  0.038153  0.000000e+00  0.036393   \n",
      "Cube 40 mm        1.524956e-02  0.097651  0.034260  0.000000e+00  0.071651   \n",
      "Cylinder H 30 mm  0.000000e+00  0.060747  0.009577  0.000000e+00  0.040092   \n",
      "Ring 10 mm        0.000000e+00  0.140561  0.012979  1.450959e-04  0.031350   \n",
      "Ring 20 mm        2.287628e-02  0.095834  0.067297  0.000000e+00  0.033497   \n",
      "Ring 30 mm        2.413287e-03  0.089237  0.060406  0.000000e+00  0.072693   \n",
      "Ring 40 mm        0.000000e+00  0.083256  0.032916  0.000000e+00  0.056258   \n",
      "Ring 50 mm        2.260207e-02  0.061488  0.034884  1.669728e-02  0.063175   \n",
      "Ring 60 mm        7.183525e-08  0.097344  0.033386  0.000000e+00  0.051556   \n",
      "\n",
      "                            n5        n6        n7        n8        n9  ...  \\\n",
      "object                                                                  ...   \n",
      "Ball 15 mm        9.712465e-06  0.133884  0.046134  0.223586  0.013255  ...   \n",
      "Ball 20 mm        6.069453e-03  0.128961  0.048420  0.223641  0.039921  ...   \n",
      "Ball 25 mm        0.000000e+00  0.147211  0.096634  0.267818  0.025878  ...   \n",
      "Ball 30 mm        1.745469e-04  0.121743  0.052146  0.303185  0.027023  ...   \n",
      "Ball 35 mm        3.525461e-03  0.162987  0.143074  0.311287  0.026602  ...   \n",
      "Ball 40 mm        1.193096e-02  0.168814  0.183548  0.357238  0.012364  ...   \n",
      "Bar 10 mm         9.443882e-07  0.119169  0.062797  0.348845  0.085311  ...   \n",
      "Cube 15 mm        0.000000e+00  0.163621  0.042027  0.230740  0.023394  ...   \n",
      "Cube 20 mm        4.952091e-05  0.125092  0.043048  0.230969  0.018379  ...   \n",
      "Cube 25 mm        1.373340e-04  0.103093  0.052446  0.299141  0.015208  ...   \n",
      "Cube 30 mm        3.523848e-03  0.153351  0.057409  0.313754  0.041404  ...   \n",
      "Cube 35 mm        1.216537e-02  0.130538  0.080501  0.316253  0.081963  ...   \n",
      "Cube 40 mm        6.405023e-03  0.152713  0.088706  0.376763  0.061695  ...   \n",
      "Cylinder H 30 mm  6.069453e-03  0.130235  0.169393  0.378104  0.117841  ...   \n",
      "Ring 10 mm        7.131065e-03  0.081664  0.071486  0.237365  0.020227  ...   \n",
      "Ring 20 mm        1.856945e-07  0.115063  0.041477  0.255166  0.006912  ...   \n",
      "Ring 30 mm        1.142612e-02  0.171437  0.035356  0.243308  0.014782  ...   \n",
      "Ring 40 mm        8.029006e-05  0.192940  0.081952  0.206243  0.023004  ...   \n",
      "Ring 50 mm        1.178466e-01  0.236000  0.195817  0.225430  0.030780  ...   \n",
      "Ring 60 mm        1.273023e-01  0.225712  0.147045  0.274477  0.029382  ...   \n",
      "\n",
      "                      n111      n112      n113      n114      n115      n116  \\\n",
      "object                                                                         \n",
      "Ball 15 mm        0.045629  0.103360  0.008517  0.049540  0.039225  0.062281   \n",
      "Ball 20 mm        0.044467  0.123726  0.000000  0.020260  0.069260  0.042992   \n",
      "Ball 25 mm        0.007503  0.125704  0.005129  0.051329  0.067109  0.085527   \n",
      "Ball 30 mm        0.029962  0.111002  0.003166  0.067180  0.055986  0.081675   \n",
      "Ball 35 mm        0.031589  0.133946  0.010552  0.024996  0.119864  0.063176   \n",
      "Ball 40 mm        0.074224  0.145946  0.013015  0.062896  0.088419  0.013331   \n",
      "Bar 10 mm         0.075494  0.130294  0.018836  0.020372  0.117891  0.056089   \n",
      "Cube 15 mm        0.029627  0.094163  0.036241  0.045390  0.076421  0.066435   \n",
      "Cube 20 mm        0.049905  0.121644  0.020739  0.064087  0.119283  0.066908   \n",
      "Cube 25 mm        0.048977  0.104830  0.042836  0.035859  0.043700  0.066688   \n",
      "Cube 30 mm        0.048374  0.098674  0.025927  0.034943  0.081625  0.088289   \n",
      "Cube 35 mm        0.024974  0.104257  0.016869  0.055681  0.224131  0.070599   \n",
      "Cube 40 mm        0.040431  0.061305  0.026178  0.042007  0.139539  0.010988   \n",
      "Cylinder H 30 mm  0.062228  0.110000  0.000000  0.072832  0.057131  0.059344   \n",
      "Ring 10 mm        0.089508  0.112377  0.012477  0.049789  0.045067  0.149357   \n",
      "Ring 20 mm        0.034818  0.107357  0.000000  0.020761  0.117971  0.036220   \n",
      "Ring 30 mm        0.001071  0.128900  0.022074  0.060766  0.137787  0.065055   \n",
      "Ring 40 mm        0.012715  0.100294  0.017981  0.053271  0.107956  0.058296   \n",
      "Ring 50 mm        0.051317  0.124764  0.019463  0.054669  0.079425  0.072565   \n",
      "Ring 60 mm        0.035761  0.099577  0.002651  0.068757  0.024783  0.067890   \n",
      "\n",
      "                      n117      n118      n119      n120  \n",
      "object                                                    \n",
      "Ball 15 mm        0.083896  0.110046  0.074869  0.074798  \n",
      "Ball 20 mm        0.076373  0.161044  0.044851  0.080670  \n",
      "Ball 25 mm        0.084535  0.217959  0.112769  0.096474  \n",
      "Ball 30 mm        0.072310  0.286591  0.068675  0.047435  \n",
      "Ball 35 mm        0.061168  0.352647  0.090364  0.083405  \n",
      "Ball 40 mm        0.061172  0.359332  0.104691  0.080306  \n",
      "Bar 10 mm         0.069694  0.200781  0.074018  0.106196  \n",
      "Cube 15 mm        0.057504  0.206241  0.081210  0.076335  \n",
      "Cube 20 mm        0.061303  0.274807  0.043454  0.111222  \n",
      "Cube 25 mm        0.066092  0.227560  0.092758  0.081487  \n",
      "Cube 30 mm        0.054790  0.254441  0.090296  0.084039  \n",
      "Cube 35 mm        0.059413  0.365053  0.078289  0.060113  \n",
      "Cube 40 mm        0.050172  0.419267  0.037002  0.071717  \n",
      "Cylinder H 30 mm  0.063452  0.275448  0.124537  0.094049  \n",
      "Ring 10 mm        0.025510  0.188100  0.031079  0.135082  \n",
      "Ring 20 mm        0.048126  0.196569  0.090444  0.084807  \n",
      "Ring 30 mm        0.093422  0.233577  0.098320  0.100584  \n",
      "Ring 40 mm        0.069012  0.206268  0.095049  0.083116  \n",
      "Ring 50 mm        0.087831  0.136371  0.048638  0.080094  \n",
      "Ring 60 mm        0.093349  0.235083  0.041171  0.131308  \n",
      "\n",
      "[20 rows x 121 columns]\n"
     ]
    }
   ],
   "source": [
    "print(df_vision)"
   ]
  },
  {
   "cell_type": "code",
   "execution_count": 8,
   "id": "fbf97560",
   "metadata": {},
   "outputs": [
    {
     "name": "stdout",
     "output_type": "stream",
     "text": [
      "                         n0        n1        n2   n3        n4        n5  \\\n",
      "context grip time                                                          \n",
      "active  1    5     0.049653  0.020142  0.022515  0.0  0.147357  0.397482   \n",
      "             15    0.063122  0.025051  0.028621  0.0  0.142988  0.411046   \n",
      "             25    0.077097  0.031100  0.034957  0.0  0.137426  0.425058   \n",
      "             35    0.090474  0.037869  0.041022  0.0  0.131525  0.438785   \n",
      "             45    0.102009  0.044871  0.046253  0.0  0.126124  0.451404   \n",
      "...                     ...       ...       ...  ...       ...       ...   \n",
      "passive 29   455   0.000499  0.267764  0.095590  0.0  0.041716  0.007985   \n",
      "             465   0.000253  0.275730  0.076859  0.0  0.034155  0.011445   \n",
      "             475   0.000123  0.280816  0.060022  0.0  0.026867  0.015762   \n",
      "             485   0.000058  0.283206  0.045837  0.0  0.020306  0.020855   \n",
      "             495   0.000026  0.282921  0.034783  0.0  0.014745  0.026512   \n",
      "\n",
      "                         n6        n7        n8        n9  ...      n111  \\\n",
      "context grip time                                          ...             \n",
      "active  1    5     0.267575  0.000013  0.173926  0.015878  ...  0.067309   \n",
      "             15    0.258256  0.000029  0.178364  0.012492  ...  0.055108   \n",
      "             25    0.256168  0.000062  0.182857  0.009446  ...  0.043350   \n",
      "             35    0.261472  0.000127  0.187060  0.006871  ...  0.032764   \n",
      "             45    0.273531  0.000250  0.190586  0.004819  ...  0.023792   \n",
      "...                     ...       ...       ...       ...  ...       ...   \n",
      "passive 29   455   0.086385  0.047038  0.203368  0.212059  ...  0.130502   \n",
      "             465   0.091714  0.052040  0.211587  0.205517  ...  0.113506   \n",
      "             475   0.097513  0.055837  0.220341  0.199334  ...  0.095915   \n",
      "             485   0.103534  0.057838  0.229111  0.193676  ...  0.078593   \n",
      "             495   0.109476  0.057698  0.237399  0.188344  ...  0.062347   \n",
      "\n",
      "                       n112      n113      n114      n115      n116      n117  \\\n",
      "context grip time                                                               \n",
      "active  1    5     0.000141  0.000000  0.001506  0.029327  0.000678  0.244819   \n",
      "             15    0.000254  0.000000  0.000827  0.032402  0.000357  0.231424   \n",
      "             25    0.000480  0.000000  0.000436  0.036433  0.000181  0.212802   \n",
      "             35    0.000889  0.000000  0.000221  0.040810  0.000089  0.190232   \n",
      "             45    0.001592  0.000000  0.000107  0.044857  0.000043  0.165221   \n",
      "...                     ...       ...       ...       ...       ...       ...   \n",
      "passive 29   455   0.122853  0.066714  0.001506  0.016038  0.129130  0.000470   \n",
      "             465   0.127082  0.054621  0.002637  0.011643  0.141332  0.000857   \n",
      "             475   0.133716  0.042967  0.004435  0.008123  0.154656  0.001506   \n",
      "             485   0.141955  0.032473  0.007168  0.005446  0.169236  0.002546   \n",
      "             495   0.150646  0.023581  0.011130  0.003510  0.184759  0.004141   \n",
      "\n",
      "                       n118      n119      n120  \n",
      "context grip time                                \n",
      "active  1    5     0.023349  0.024818  0.124665  \n",
      "             15    0.025252  0.024197  0.114442  \n",
      "             25    0.028458  0.026614  0.104407  \n",
      "             35    0.032950  0.031749  0.094423  \n",
      "             45    0.038674  0.039135  0.084363  \n",
      "...                     ...       ...       ...  \n",
      "passive 29   455   0.154002  0.059833  0.072556  \n",
      "             465   0.170420  0.049949  0.069426  \n",
      "             475   0.186882  0.041344  0.065520  \n",
      "             485   0.202745  0.034833  0.060563  \n",
      "             495   0.217371  0.031085  0.054563  \n",
      "\n",
      "[1350 rows x 121 columns]\n"
     ]
    }
   ],
   "source": [
    "print(df_movement)"
   ]
  },
  {
   "cell_type": "code",
   "execution_count": 9,
   "id": "b022ebac",
   "metadata": {},
   "outputs": [],
   "source": [
    "# convert to numpy\n",
    "np_fixation = df_fixation.to_numpy()\n",
    "\n",
    "np_vision = df_vision.to_numpy()\n",
    "\n",
    "np_movement = dict()\n",
    "np_movement['active'] = df_movement.loc['active'].to_numpy()\n",
    "np_movement['passive'] = df_movement.loc['passive'].to_numpy()"
   ]
  },
  {
   "cell_type": "code",
   "execution_count": 10,
   "id": "d00c2004",
   "metadata": {},
   "outputs": [],
   "source": [
    "# PCA\n",
    "# note: 'mle' uses Minka's mle method\n",
    "# here's the review that justifies it: https://www.mdpi.com/2227-7390/9/22/2840\n",
    "# but when there are more features than observations, we just use 'None' with the 'arpack' solver (get rid of the last component, which explains a singular data dimension)\n",
    "pca_fixation = PCA(n_components=None,svd_solver='arpack').fit(np_fixation)\n",
    "\n",
    "pca_vision = PCA(n_components=None,svd_solver='arpack').fit(np_vision)\n",
    "\n",
    "pca_movement = dict()\n",
    "pca_movement['active'] = PCA(n_components='mle',svd_solver = 'full').fit(np_movement['active'])\n",
    "pca_movement['passive'] = PCA(n_components='mle',svd_solver = 'full').fit(np_movement['passive'])"
   ]
  },
  {
   "cell_type": "code",
   "execution_count": 30,
   "id": "cad13b79",
   "metadata": {},
   "outputs": [
    {
     "name": "stdout",
     "output_type": "stream",
     "text": [
      "[50.41354697 55.91419805 59.81366208 64.89486805 72.62634976 80.29612004\n",
      " 84.80749912]\n"
     ]
    }
   ],
   "source": [
    "theta_fix_vs_viz = np.degrees(\n",
    "    subspace_angles(\n",
    "        pca_fixation.components_.T,\n",
    "        pca_vision.components_[:10,:].T\n",
    "    )[::-1]\n",
    ")\n",
    "\n",
    "print(theta_fix_vs_viz)"
   ]
  },
  {
   "cell_type": "code",
   "execution_count": 31,
   "id": "efd0bd27",
   "metadata": {},
   "outputs": [
    {
     "name": "stdout",
     "output_type": "stream",
     "text": [
      "[34.44120342 48.3916181  53.5524968  57.92744701 63.89648768 70.2179634\n",
      " 76.52355954 77.20424282 84.61759922 89.43113383]\n"
     ]
    }
   ],
   "source": [
    "theta_actmove_vs_pasmove = np.degrees(\n",
    "    subspace_angles(\n",
    "        pca_movement['active'].components_[:10,:].T,\n",
    "        pca_movement['passive'].components_[:10,:].T\n",
    "    )[::-1]\n",
    ")\n",
    "\n",
    "print(theta_actmove_vs_pasmove)"
   ]
  },
  {
   "cell_type": "code",
   "execution_count": 32,
   "id": "088c2543",
   "metadata": {},
   "outputs": [
    {
     "name": "stdout",
     "output_type": "stream",
     "text": [
      "[27.89854226 37.40875029 44.6767212  51.95587997 62.36181196 69.29338125\n",
      " 73.89241012 77.69480046 86.09922833 89.93633986]\n"
     ]
    }
   ],
   "source": [
    "theta_actmove_vs_vision = np.degrees(\n",
    "    subspace_angles(\n",
    "        pca_movement['active'].components_[:10,:].T,\n",
    "        pca_vision.components_[:10,:].T\n",
    "    )[::-1]\n",
    ")\n",
    "\n",
    "print(theta_actmove_vs_vision)"
   ]
  },
  {
   "cell_type": "code",
   "execution_count": 33,
   "id": "fd83fca4",
   "metadata": {},
   "outputs": [
    {
     "name": "stdout",
     "output_type": "stream",
     "text": [
      "[31.2959379  44.10791466 51.19408234 54.98008807 67.47458131 70.140777\n",
      " 73.86222206 81.93850025 86.06399385 89.89567468]\n"
     ]
    }
   ],
   "source": [
    "theta_pasmove_vs_vision = np.degrees(\n",
    "    subspace_angles(\n",
    "        pca_movement['passive'].components_[:10,:].T,\n",
    "        pca_vision.components_[:10,:].T\n",
    "    )[::-1]\n",
    ")\n",
    "\n",
    "print(theta_pasmove_vs_vision)"
   ]
  },
  {
   "cell_type": "code",
   "execution_count": 34,
   "id": "f7aee677",
   "metadata": {},
   "outputs": [
    {
     "name": "stdout",
     "output_type": "stream",
     "text": [
      "[54.34758852 59.13123927 64.81115999 72.87497437 77.33723532 83.34899178\n",
      " 86.08152   ]\n"
     ]
    }
   ],
   "source": [
    "theta_actmove_vs_fixation = np.degrees(\n",
    "    subspace_angles(\n",
    "        pca_movement['active'].components_[:10,:].T,\n",
    "        pca_fixation.components_.T\n",
    "    )[::-1]\n",
    ")\n",
    "\n",
    "print(theta_actmove_vs_fixation)"
   ]
  },
  {
   "cell_type": "code",
   "execution_count": 35,
   "id": "4be183eb",
   "metadata": {},
   "outputs": [
    {
     "name": "stdout",
     "output_type": "stream",
     "text": [
      "[53.59020339 55.67237083 66.62313552 68.05483717 68.25436049 76.69612791\n",
      " 84.36335066]\n"
     ]
    }
   ],
   "source": [
    "theta_pasmove_vs_fixation = np.degrees(\n",
    "    subspace_angles(\n",
    "        pca_movement['passive'].components_[:10,:].T,\n",
    "        pca_fixation.components_.T\n",
    "    )[::-1]\n",
    ")\n",
    "\n",
    "print(theta_pasmove_vs_fixation)"
   ]
  },
  {
   "cell_type": "code",
   "execution_count": null,
   "id": "4df9980a",
   "metadata": {},
   "outputs": [],
   "source": []
  }
 ],
 "metadata": {
  "kernelspec": {
   "display_name": "Python 3 (ipykernel)",
   "language": "python",
   "name": "python3"
  },
  "language_info": {
   "codemirror_mode": {
    "name": "ipython",
    "version": 3
   },
   "file_extension": ".py",
   "mimetype": "text/x-python",
   "name": "python",
   "nbconvert_exporter": "python",
   "pygments_lexer": "ipython3",
   "version": "3.9.7"
  }
 },
 "nbformat": 4,
 "nbformat_minor": 5
}
